{
 "cells": [
  {
   "cell_type": "code",
   "execution_count": 1,
   "metadata": {},
   "outputs": [],
   "source": [
    "import numpy as np"
   ]
  },
  {
   "cell_type": "code",
   "execution_count": 34,
   "metadata": {},
   "outputs": [],
   "source": [
    "def mov_avg_val(mylist, N):\n",
    "    cumsum, moving_aves = [0], []\n",
    "    \n",
    "    for i, x in enumerate(mylist, 1):\n",
    "        cumsum.append(cumsum[i-1] + x) # summing up all the values one by one and appending the list\n",
    "        if i>=N:\n",
    "            moving_ave = round(((cumsum[i] - cumsum[i-N])/N),2) #computing the moving average using temp array sum array cumsum\n",
    "            #can do stuff with moving_ave here\n",
    "            moving_aves.append(moving_ave) # listing the moving average as an single array\n",
    "    print(\"Moving average values list: \", moving_aves)\n",
    "    print(\"Length of the list l-N+1: \", len(moving_aves))"
   ]
  },
  {
   "cell_type": "code",
   "execution_count": 29,
   "metadata": {},
   "outputs": [],
   "source": [
    "mylist = [10, 20, 30, 40, 50, 60, 70, 80, 90, 100]\n",
    "N = 4"
   ]
  },
  {
   "cell_type": "code",
   "execution_count": 35,
   "metadata": {},
   "outputs": [
    {
     "name": "stdout",
     "output_type": "stream",
     "text": [
      "Moving average values list:  [25.0, 35.0, 45.0, 55.0, 65.0, 75.0, 85.0]\n",
      "Length of the list l-N+1:  7\n"
     ]
    }
   ],
   "source": [
    "mov_avg_val(mylist,N)"
   ]
  },
  {
   "cell_type": "code",
   "execution_count": 36,
   "metadata": {},
   "outputs": [
    {
     "name": "stdout",
     "output_type": "stream",
     "text": [
      "Moving average values list:  [4.25, 5.5, 6.75, 7.75, 23.5, 39.5, 57.25, 79.25, 88.0, 107.5]\n",
      "Length of the list l-N+1:  10\n"
     ]
    }
   ],
   "source": [
    "list2 = [3, 5, 7, 2, 8, 10, 11, 65, 72, 81, 99, 100, 150]\n",
    "mov_avg_val(list2,N)"
   ]
  },
  {
   "cell_type": "code",
   "execution_count": null,
   "metadata": {},
   "outputs": [],
   "source": []
  }
 ],
 "metadata": {
  "kernelspec": {
   "display_name": "Python 3",
   "language": "python",
   "name": "python3"
  },
  "language_info": {
   "codemirror_mode": {
    "name": "ipython",
    "version": 3
   },
   "file_extension": ".py",
   "mimetype": "text/x-python",
   "name": "python",
   "nbconvert_exporter": "python",
   "pygments_lexer": "ipython3",
   "version": "3.6.8"
  }
 },
 "nbformat": 4,
 "nbformat_minor": 4
}
