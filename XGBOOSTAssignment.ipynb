{
 "cells": [
  {
   "cell_type": "code",
   "execution_count": 1,
   "id": "7d5717eb",
   "metadata": {},
   "outputs": [],
   "source": [
    "import numpy as np\n",
    "import pandas as pd\n",
    "import seaborn as sns\n",
    "import matplotlib.pyplot as plt\n",
    "%matplotlib inline"
   ]
  },
  {
   "cell_type": "code",
   "execution_count": 2,
   "id": "616e1c2e",
   "metadata": {},
   "outputs": [],
   "source": [
    "columns_name = [\"age\", \"workclass\", \"fnlwgt\",\"education\",\"educationNum\", \\\n",
    "            \"maritalStatus\", \"occupation\", \"relationship\", \"race\", \"sex\", \"capitalGain\", \\\n",
    "               \"capitalLoss\", \"hoursPerWeek\", \"nativCcountry\", \"income\"]"
   ]
  },
  {
   "cell_type": "code",
   "execution_count": 3,
   "id": "93f4b25f",
   "metadata": {},
   "outputs": [
    {
     "data": {
      "text/html": [
       "<div>\n",
       "<style scoped>\n",
       "    .dataframe tbody tr th:only-of-type {\n",
       "        vertical-align: middle;\n",
       "    }\n",
       "\n",
       "    .dataframe tbody tr th {\n",
       "        vertical-align: top;\n",
       "    }\n",
       "\n",
       "    .dataframe thead th {\n",
       "        text-align: right;\n",
       "    }\n",
       "</style>\n",
       "<table border=\"1\" class=\"dataframe\">\n",
       "  <thead>\n",
       "    <tr style=\"text-align: right;\">\n",
       "      <th></th>\n",
       "      <th>age</th>\n",
       "      <th>workclass</th>\n",
       "      <th>fnlwgt</th>\n",
       "      <th>education</th>\n",
       "      <th>educationNum</th>\n",
       "      <th>maritalStatus</th>\n",
       "      <th>occupation</th>\n",
       "      <th>relationship</th>\n",
       "      <th>race</th>\n",
       "      <th>sex</th>\n",
       "      <th>capitalGain</th>\n",
       "      <th>capitalLoss</th>\n",
       "      <th>hoursPerWeek</th>\n",
       "      <th>nativCcountry</th>\n",
       "      <th>income</th>\n",
       "    </tr>\n",
       "  </thead>\n",
       "  <tbody>\n",
       "    <tr>\n",
       "      <th>32559</th>\n",
       "      <td>52</td>\n",
       "      <td>Self-emp-inc</td>\n",
       "      <td>287927</td>\n",
       "      <td>HS-grad</td>\n",
       "      <td>9</td>\n",
       "      <td>Married-civ-spouse</td>\n",
       "      <td>Exec-managerial</td>\n",
       "      <td>Wife</td>\n",
       "      <td>White</td>\n",
       "      <td>Female</td>\n",
       "      <td>15024</td>\n",
       "      <td>0</td>\n",
       "      <td>40</td>\n",
       "      <td>United-States</td>\n",
       "      <td>&gt;50K</td>\n",
       "    </tr>\n",
       "  </tbody>\n",
       "</table>\n",
       "</div>"
      ],
      "text/plain": [
       "       age      workclass  fnlwgt education  educationNum  \\\n",
       "32559   52   Self-emp-inc  287927   HS-grad             9   \n",
       "\n",
       "             maritalStatus        occupation relationship    race      sex  \\\n",
       "32559   Married-civ-spouse   Exec-managerial         Wife   White   Female   \n",
       "\n",
       "       capitalGain  capitalLoss  hoursPerWeek   nativCcountry income  \n",
       "32559        15024            0            40   United-States   >50K  "
      ]
     },
     "execution_count": 3,
     "metadata": {},
     "output_type": "execute_result"
    }
   ],
   "source": [
    "train_df = pd.read_csv('cansus_train.csv')\n",
    "train_df.columns = columns_name\n",
    "train_df.tail(1)"
   ]
  },
  {
   "cell_type": "code",
   "execution_count": 4,
   "id": "23d2b7f6",
   "metadata": {},
   "outputs": [
    {
     "data": {
      "text/plain": [
       "(32560, 15)"
      ]
     },
     "execution_count": 4,
     "metadata": {},
     "output_type": "execute_result"
    }
   ],
   "source": [
    "train_df.shape"
   ]
  },
  {
   "cell_type": "code",
   "execution_count": 5,
   "id": "e0d10a0c",
   "metadata": {},
   "outputs": [],
   "source": [
    "## https://www.kaggle.com/code/oucxxxx/adult-income-algorithm-from-scratch-no-sklearn\n",
    "## https://www.kaggle.com/code/tirendazacademy/classification-analysis-with-xgboost\n",
    "## https://rpubs.com/Net/IncomeLevelClassification#:~:text=Married%2Dciv%2Dspouse%20corresponds%20to,%2C%20Married%2DAF%2Dspouse."
   ]
  },
  {
   "cell_type": "code",
   "execution_count": 6,
   "id": "b444d298",
   "metadata": {},
   "outputs": [
    {
     "data": {
      "text/html": [
       "<div>\n",
       "<style scoped>\n",
       "    .dataframe tbody tr th:only-of-type {\n",
       "        vertical-align: middle;\n",
       "    }\n",
       "\n",
       "    .dataframe tbody tr th {\n",
       "        vertical-align: top;\n",
       "    }\n",
       "\n",
       "    .dataframe thead th {\n",
       "        text-align: right;\n",
       "    }\n",
       "</style>\n",
       "<table border=\"1\" class=\"dataframe\">\n",
       "  <thead>\n",
       "    <tr style=\"text-align: right;\">\n",
       "      <th></th>\n",
       "      <th>age</th>\n",
       "      <th>workclass</th>\n",
       "      <th>fnlwgt</th>\n",
       "      <th>education</th>\n",
       "      <th>educationNum</th>\n",
       "      <th>maritalStatus</th>\n",
       "      <th>occupation</th>\n",
       "      <th>relationship</th>\n",
       "      <th>race</th>\n",
       "      <th>sex</th>\n",
       "      <th>capitalGain</th>\n",
       "      <th>capitalLoss</th>\n",
       "      <th>hoursPerWeek</th>\n",
       "      <th>nativCcountry</th>\n",
       "      <th>income</th>\n",
       "    </tr>\n",
       "  </thead>\n",
       "  <tbody>\n",
       "    <tr>\n",
       "      <th>16279</th>\n",
       "      <td>44</td>\n",
       "      <td>Private</td>\n",
       "      <td>83891</td>\n",
       "      <td>Bachelors</td>\n",
       "      <td>13</td>\n",
       "      <td>Divorced</td>\n",
       "      <td>Adm-clerical</td>\n",
       "      <td>Own-child</td>\n",
       "      <td>Asian-Pac-Islander</td>\n",
       "      <td>Male</td>\n",
       "      <td>5455</td>\n",
       "      <td>0</td>\n",
       "      <td>40</td>\n",
       "      <td>United-States</td>\n",
       "      <td>&lt;=50K.</td>\n",
       "    </tr>\n",
       "    <tr>\n",
       "      <th>16280</th>\n",
       "      <td>35</td>\n",
       "      <td>Self-emp-inc</td>\n",
       "      <td>182148</td>\n",
       "      <td>Bachelors</td>\n",
       "      <td>13</td>\n",
       "      <td>Married-civ-spouse</td>\n",
       "      <td>Exec-managerial</td>\n",
       "      <td>Husband</td>\n",
       "      <td>White</td>\n",
       "      <td>Male</td>\n",
       "      <td>0</td>\n",
       "      <td>0</td>\n",
       "      <td>60</td>\n",
       "      <td>United-States</td>\n",
       "      <td>&gt;50K.</td>\n",
       "    </tr>\n",
       "  </tbody>\n",
       "</table>\n",
       "</div>"
      ],
      "text/plain": [
       "       age      workclass  fnlwgt   education  educationNum  \\\n",
       "16279   44        Private   83891   Bachelors            13   \n",
       "16280   35   Self-emp-inc  182148   Bachelors            13   \n",
       "\n",
       "             maritalStatus        occupation relationship  \\\n",
       "16279             Divorced      Adm-clerical    Own-child   \n",
       "16280   Married-civ-spouse   Exec-managerial      Husband   \n",
       "\n",
       "                      race    sex  capitalGain  capitalLoss  hoursPerWeek  \\\n",
       "16279   Asian-Pac-Islander   Male         5455            0            40   \n",
       "16280                White   Male            0            0            60   \n",
       "\n",
       "        nativCcountry   income  \n",
       "16279   United-States   <=50K.  \n",
       "16280   United-States    >50K.  "
      ]
     },
     "execution_count": 6,
     "metadata": {},
     "output_type": "execute_result"
    }
   ],
   "source": [
    "test_df = pd.read_csv('cansus_test.csv',skiprows=1,header=None)\n",
    "test_df.columns = columns_name\n",
    "test_df.tail(2)"
   ]
  },
  {
   "cell_type": "code",
   "execution_count": 7,
   "id": "f9ea2fc1",
   "metadata": {},
   "outputs": [
    {
     "data": {
      "text/plain": [
       "(16281, 15)"
      ]
     },
     "execution_count": 7,
     "metadata": {},
     "output_type": "execute_result"
    }
   ],
   "source": [
    "test_df.shape"
   ]
  },
  {
   "cell_type": "code",
   "execution_count": 8,
   "id": "a5728213",
   "metadata": {},
   "outputs": [],
   "source": [
    "df = pd.concat([train_df, test_df],ignore_index=True)"
   ]
  },
  {
   "cell_type": "code",
   "execution_count": 9,
   "id": "b1d0b7b4",
   "metadata": {},
   "outputs": [
    {
     "data": {
      "text/plain": [
       "(48841, 15)"
      ]
     },
     "execution_count": 9,
     "metadata": {},
     "output_type": "execute_result"
    }
   ],
   "source": [
    "df.shape"
   ]
  },
  {
   "cell_type": "code",
   "execution_count": 10,
   "id": "f9865a87",
   "metadata": {},
   "outputs": [],
   "source": [
    "### Remove blank space from all columns in a dataframe\n",
    "df_obj = df.select_dtypes(['object'])\n",
    "rep_df = df[df_obj.columns] = df_obj.apply(lambda x: x.str.strip())\n",
    "rep_df = df.replace('?', np.nan)"
   ]
  },
  {
   "cell_type": "code",
   "execution_count": 11,
   "id": "2c1b0c34",
   "metadata": {},
   "outputs": [
    {
     "data": {
      "text/plain": [
       "age                 0\n",
       "workclass        2799\n",
       "fnlwgt              0\n",
       "education           0\n",
       "educationNum        0\n",
       "maritalStatus       0\n",
       "occupation       2809\n",
       "relationship        0\n",
       "race                0\n",
       "sex                 0\n",
       "capitalGain         0\n",
       "capitalLoss         0\n",
       "hoursPerWeek        0\n",
       "nativCcountry     857\n",
       "income              0\n",
       "dtype: int64"
      ]
     },
     "execution_count": 11,
     "metadata": {},
     "output_type": "execute_result"
    }
   ],
   "source": [
    "rep_df.isnull().sum()"
   ]
  },
  {
   "cell_type": "code",
   "execution_count": 12,
   "id": "bf76f1a8",
   "metadata": {},
   "outputs": [
    {
     "data": {
      "text/plain": [
       "(48841, 15)"
      ]
     },
     "execution_count": 12,
     "metadata": {},
     "output_type": "execute_result"
    }
   ],
   "source": [
    "rep_df.shape"
   ]
  },
  {
   "cell_type": "code",
   "execution_count": 13,
   "id": "363059a4",
   "metadata": {},
   "outputs": [],
   "source": [
    "rep_df[\"workclass\"].fillna(rep_df[\"workclass\"].mode()[0], inplace = True)\n",
    "rep_df[\"occupation\"].fillna(rep_df[\"occupation\"].mode()[0], inplace = True)\n",
    "rep_df[\"nativCcountry\"].fillna(rep_df[\"nativCcountry\"].mode()[0], inplace = True)"
   ]
  },
  {
   "cell_type": "code",
   "execution_count": 14,
   "id": "d69a34b3",
   "metadata": {},
   "outputs": [
    {
     "data": {
      "text/plain": [
       "age              0\n",
       "workclass        0\n",
       "fnlwgt           0\n",
       "education        0\n",
       "educationNum     0\n",
       "maritalStatus    0\n",
       "occupation       0\n",
       "relationship     0\n",
       "race             0\n",
       "sex              0\n",
       "capitalGain      0\n",
       "capitalLoss      0\n",
       "hoursPerWeek     0\n",
       "nativCcountry    0\n",
       "income           0\n",
       "dtype: int64"
      ]
     },
     "execution_count": 14,
     "metadata": {},
     "output_type": "execute_result"
    }
   ],
   "source": [
    "rep_df.isnull().sum()"
   ]
  },
  {
   "cell_type": "code",
   "execution_count": 15,
   "id": "0bf0f6e5",
   "metadata": {},
   "outputs": [],
   "source": [
    "# format output colmuns\n",
    "rep_df['income'] = rep_df['income'].map({\"<=50K.\":0, \">50K.\":1,\"<=50K\":0, \">50K\":1})"
   ]
  },
  {
   "cell_type": "code",
   "execution_count": 16,
   "id": "3aa028d0",
   "metadata": {},
   "outputs": [],
   "source": [
    "## make school a good category \n",
    "rep_df['education'].replace([\"Preschool\", \"1st-4th\",\"5th-6th\",\"7th-8th\", \\\n",
    "                \"9th\",\"10th\",\"11th\",\"12th\"], \"Drop_at_school_label\",inplace=True)\n",
    "rep_df['education'].replace([\"Some-college\", \"Assoc-voc\",\"Assoc-acdm\",\"7th-8th\", \\\n",
    "                \"9th\",\"10th\",\"11th\",\"12th\"],'College',inplace=True)"
   ]
  },
  {
   "cell_type": "code",
   "execution_count": 17,
   "id": "a2985e4a",
   "metadata": {},
   "outputs": [],
   "source": [
    "rep_df['maritalStatus'].replace([\"Married-civ-spouse\", \"Married-AF-spouse\"], \"Married-spouse\",inplace=True)"
   ]
  },
  {
   "cell_type": "code",
   "execution_count": 18,
   "id": "238b2d43",
   "metadata": {},
   "outputs": [],
   "source": [
    "rep_df['nativCcountry'].replace([\"Puerto-Rico\", \"El-Salvador\", \"Outlying-US(Guam-USVI-etc)\"], \"United-States\",inplace=True)\n",
    "rep_df['nativCcountry'].replace([\"Jamaica\", \"Dominican-Republic\",\"Guatemala\", \"Mexico\",\"Canada\", \\\n",
    "        \"Cuba\",\"Columbia\",\"Haiti\",\"Nicaragua\",\"Peru\",\"Ecuador\", \"Trinadad&Tobago\", \"Honduras\"], \\\n",
    "        \"Latin-America\",inplace=True)\n",
    "rep_df['nativCcountry'].replace([\"Italy\",\"Poland\", \"Portugal\", \"Greece\",\"France\", \\\n",
    "                \"Yugoslavia\", \"Hungary\", \"Holand-Netherlands\", \"Germany\"], \"Europe\",inplace=True)\n",
    "rep_df['nativCcountry'].replace([\"India\", \"China\", \"Japan\",\"Vietnam\",\"Taiwan\", \\\n",
    "            \"Iran\", \"Hong\", \"Thailand\", \"Cambodia\", \"Laos\", \"Philippines\"], \"Asia\",inplace=True)\n",
    "rep_df['nativCcountry'].replace([\"Ireland\", \"England\", \"Scotland\"], \"England\",inplace=True)"
   ]
  },
  {
   "cell_type": "code",
   "execution_count": 19,
   "id": "e2fc0960",
   "metadata": {},
   "outputs": [],
   "source": [
    "cat_clm = [\"workclass\", \"education\", \\\n",
    "            \"maritalStatus\", \"occupation\", \"relationship\", \"race\", \"sex\",\"nativCcountry\"]\n",
    "nul_clm = [\"age\",\"fnlwgt\", \"capitalGain\",\"capitalLoss\", \"hoursPerWeek\"]"
   ]
  },
  {
   "cell_type": "code",
   "execution_count": 20,
   "id": "04405169",
   "metadata": {},
   "outputs": [],
   "source": [
    "cat_datafrm = rep_df[cat_clm]"
   ]
  },
  {
   "cell_type": "code",
   "execution_count": 21,
   "id": "e6d85909",
   "metadata": {},
   "outputs": [],
   "source": [
    "one_hot = pd.get_dummies(cat_datafrm)"
   ]
  },
  {
   "cell_type": "code",
   "execution_count": 22,
   "id": "b4331684",
   "metadata": {},
   "outputs": [],
   "source": [
    "rep_df = rep_df.drop(cat_clm,axis=1)"
   ]
  },
  {
   "cell_type": "code",
   "execution_count": 23,
   "id": "80c3f84a",
   "metadata": {},
   "outputs": [
    {
     "data": {
      "text/plain": [
       "Index(['age', 'fnlwgt', 'educationNum', 'capitalGain', 'capitalLoss',\n",
       "       'hoursPerWeek', 'income'],\n",
       "      dtype='object')"
      ]
     },
     "execution_count": 23,
     "metadata": {},
     "output_type": "execute_result"
    }
   ],
   "source": [
    "rep_df.columns"
   ]
  },
  {
   "cell_type": "code",
   "execution_count": 24,
   "id": "d9c7f225",
   "metadata": {},
   "outputs": [
    {
     "name": "stdout",
     "output_type": "stream",
     "text": [
      "0.5575762169519219\n",
      "-0.13214148770488562\n"
     ]
    },
    {
     "data": {
      "text/plain": [
       "<AxesSubplot:ylabel='Count'>"
      ]
     },
     "execution_count": 24,
     "metadata": {},
     "output_type": "execute_result"
    },
    {
     "data": {
      "image/png": "[encoded data removed]",
      "text/plain": [
       "<Figure size 432x288 with 1 Axes>"
      ]
     },
     "metadata": {
      "needs_background": "light"
     },
     "output_type": "display_data"
    }
   ],
   "source": [
    "from scipy import stats\n",
    "visual_clm = ['age', 'fnlwgt', 'educationNum', 'capitalGain', 'capitalLoss','hoursPerWeek']\n",
    "print(rep_df['age'].skew())\n",
    "print(np.log(rep_df['age']).skew())\n",
    "boxage = stats.boxcox(rep_df['age'])\n",
    "box_age = pd.Series(boxage[0])\n",
    "sns.histplot(x=box_age,kde=True)"
   ]
  },
  {
   "cell_type": "code",
   "execution_count": 25,
   "id": "03c89085",
   "metadata": {},
   "outputs": [
    {
     "data": {
      "text/plain": [
       "<AxesSubplot:>"
      ]
     },
     "execution_count": 25,
     "metadata": {},
     "output_type": "execute_result"
    },
    {
     "data": {
      "image/png": "[encoded data removed]",
      "text/plain": [
       "<Figure size 432x288 with 1 Axes>"
      ]
     },
     "metadata": {
      "needs_background": "light"
     },
     "output_type": "display_data"
    }
   ],
   "source": [
    "sns.boxplot(x=box_age)"
   ]
  },
  {
   "cell_type": "code",
   "execution_count": 26,
   "id": "38e21678",
   "metadata": {},
   "outputs": [
    {
     "name": "stdout",
     "output_type": "stream",
     "text": [
      "1.4388862793258443\n",
      "-0.8363874620602885\n"
     ]
    },
    {
     "data": {
      "text/plain": [
       "<AxesSubplot:ylabel='Count'>"
      ]
     },
     "execution_count": 26,
     "metadata": {},
     "output_type": "execute_result"
    },
    {
     "data": {
      "image/png": "[encoded data removed]",
      "text/plain": [
       "<Figure size 432x288 with 1 Axes>"
      ]
     },
     "metadata": {
      "needs_background": "light"
     },
     "output_type": "display_data"
    }
   ],
   "source": [
    "rep_df['age'] = box_age\n",
    "visual_clm = ['age', 'fnlwgt', 'educationNum', 'capitalGain', 'capitalLoss','hoursPerWeek']\n",
    "print(rep_df['fnlwgt'].skew())\n",
    "print(np.log(rep_df['fnlwgt']).skew())\n",
    "boxfnlwgt = stats.boxcox(rep_df['fnlwgt'])\n",
    "boxfnlwgt = pd.Series(boxfnlwgt[0])\n",
    "sns.histplot(x=boxfnlwgt,kde=True)"
   ]
  },
  {
   "cell_type": "code",
   "execution_count": 27,
   "id": "d068ac39",
   "metadata": {},
   "outputs": [
    {
     "data": {
      "text/plain": [
       "<AxesSubplot:>"
      ]
     },
     "execution_count": 27,
     "metadata": {},
     "output_type": "execute_result"
    },
    {
     "data": {
      "image/png": "[encoded data removed]",
      "text/plain": [
       "<Figure size 432x288 with 1 Axes>"
      ]
     },
     "metadata": {
      "needs_background": "light"
     },
     "output_type": "display_data"
    }
   ],
   "source": [
    "sns.boxplot(x=boxfnlwgt)"
   ]
  },
  {
   "cell_type": "code",
   "execution_count": 28,
   "id": "0a8fef67",
   "metadata": {},
   "outputs": [
    {
     "data": {
      "text/plain": [
       "158"
      ]
     },
     "execution_count": 28,
     "metadata": {},
     "output_type": "execute_result"
    }
   ],
   "source": [
    "z = np.abs(stats.zscore(boxfnlwgt))\n",
    "threshold = 3\n",
    "z_fnl = np.where(z > 3)[0]\n",
    "len(z_fnl)"
   ]
  },
  {
   "cell_type": "code",
   "execution_count": 29,
   "id": "4e5994f1",
   "metadata": {},
   "outputs": [
    {
     "data": {
      "text/plain": [
       "<AxesSubplot:xlabel='fnlwgt'>"
      ]
     },
     "execution_count": 29,
     "metadata": {},
     "output_type": "execute_result"
    },
    {
     "data": {
      "image/png": "[encoded data removed]",
      "text/plain": [
       "<Figure size 432x288 with 1 Axes>"
      ]
     },
     "metadata": {
      "needs_background": "light"
     },
     "output_type": "display_data"
    }
   ],
   "source": [
    "rep_df['fnlwgt'] = boxfnlwgt\n",
    "sns.boxplot(x=rep_df['fnlwgt'])"
   ]
  },
  {
   "cell_type": "code",
   "execution_count": 30,
   "id": "7ca4b400",
   "metadata": {},
   "outputs": [],
   "source": [
    "#fnlwgt cutoff outlier is 850\n",
    "rep_df= rep_df[rep_df['fnlwgt'] <= 800]"
   ]
  },
  {
   "cell_type": "code",
   "execution_count": 31,
   "id": "052bcb24",
   "metadata": {},
   "outputs": [
    {
     "data": {
      "image/png": "[encoded data removed]",
      "text/plain": [
       "<Figure size 432x288 with 1 Axes>"
      ]
     },
     "metadata": {
      "needs_background": "light"
     },
     "output_type": "display_data"
    },
    {
     "data": {
      "image/png": "[encoded data removed]",
      "text/plain": [
       "<Figure size 432x288 with 1 Axes>"
      ]
     },
     "metadata": {
      "needs_background": "light"
     },
     "output_type": "display_data"
    },
    {
     "data": {
      "image/png": "[encoded data removed]",
      "text/plain": [
       "<Figure size 432x288 with 1 Axes>"
      ]
     },
     "metadata": {
      "needs_background": "light"
     },
     "output_type": "display_data"
    }
   ],
   "source": [
    "visual_clm = ['capitalGain', 'capitalLoss','hoursPerWeek']\n",
    "for cl in visual_clm:\n",
    "    fig,ax = plt.subplots()\n",
    "    sns.boxplot(data=rep_df, x=cl)"
   ]
  },
  {
   "cell_type": "code",
   "execution_count": 32,
   "id": "f94ff5ac",
   "metadata": {},
   "outputs": [],
   "source": [
    "rep_df= rep_df[rep_df['capitalGain'] <= 30000]\n",
    "rep_df= rep_df[rep_df['capitalLoss'] <= 3000]\n",
    "rep_df= rep_df[(rep_df['hoursPerWeek'] <= 80) & (rep_df['hoursPerWeek'] >= 10)]"
   ]
  },
  {
   "cell_type": "code",
   "execution_count": 33,
   "id": "30f68a88",
   "metadata": {},
   "outputs": [],
   "source": [
    "one_hot = one_hot.iloc[rep_df.index]"
   ]
  },
  {
   "cell_type": "code",
   "execution_count": 34,
   "id": "8d7fd168",
   "metadata": {},
   "outputs": [],
   "source": [
    "rep_df = pd.concat([rep_df,one_hot],axis=1)"
   ]
  },
  {
   "cell_type": "code",
   "execution_count": 35,
   "id": "5cc56a95",
   "metadata": {},
   "outputs": [],
   "source": [
    "x = rep_df.drop([\"income\", \"educationNum\"], axis=1)"
   ]
  },
  {
   "cell_type": "code",
   "execution_count": 36,
   "id": "dd02ab99",
   "metadata": {},
   "outputs": [],
   "source": [
    "y = rep_df['income']"
   ]
  },
  {
   "cell_type": "code",
   "execution_count": 37,
   "id": "463c2ad7",
   "metadata": {},
   "outputs": [],
   "source": [
    "from sklearn.model_selection import train_test_split"
   ]
  },
  {
   "cell_type": "code",
   "execution_count": 38,
   "id": "61ec5027",
   "metadata": {},
   "outputs": [],
   "source": [
    "X_train, X_test, y_train, y_test = x.iloc[0:32560, :], x.iloc[32560::, :], y[0:32560], y[32560::]"
   ]
  },
  {
   "cell_type": "code",
   "execution_count": 39,
   "id": "da84d325",
   "metadata": {},
   "outputs": [
    {
     "name": "stdout",
     "output_type": "stream",
     "text": [
      "(32560, 59)\n",
      "(14987, 59)\n"
     ]
    }
   ],
   "source": [
    "print(X_train.shape)\n",
    "print(X_test.shape)"
   ]
  },
  {
   "cell_type": "code",
   "execution_count": 40,
   "id": "7ff289d3",
   "metadata": {},
   "outputs": [],
   "source": [
    "# data standardization with  sklearn\n",
    "from sklearn.preprocessing import StandardScaler\n",
    "scaler = StandardScaler()"
   ]
  },
  {
   "cell_type": "code",
   "execution_count": 41,
   "id": "9dba582c",
   "metadata": {},
   "outputs": [],
   "source": [
    "X_train=scaler.fit_transform(X_train)\n",
    "X_test=scaler.transform(X_test)"
   ]
  },
  {
   "cell_type": "code",
   "execution_count": 42,
   "id": "043857d9",
   "metadata": {},
   "outputs": [],
   "source": [
    "#https://slundberg.github.io/shap/notebooks/Census%20income%20classification%20with%20XGBoost.html\n",
    "# https://www.kaggle.com/code/mattmet/income-prediction-xgboost-accuracy-86-02/notebook\n",
    "# https://towardsdatascience.com/ensemble-methods-bagging-boosting-and-stacking-c9214a10a205\n",
    "\n",
    "# outlire handle very nice\n",
    "## https://medium.com/analytics-vidhya/how-to-handle-outliers-in-machine-learning-5d8105c708e5"
   ]
  },
  {
   "cell_type": "code",
   "execution_count": 43,
   "id": "09d0da12",
   "metadata": {},
   "outputs": [],
   "source": [
    "from xgboost import XGBClassifier\n",
    "from sklearn.metrics import confusion_matrix\n",
    "from sklearn.model_selection import cross_val_score, KFold\n",
    "from sklearn.model_selection import GridSearchCV"
   ]
  },
  {
   "cell_type": "code",
   "execution_count": 44,
   "id": "1bf69442",
   "metadata": {},
   "outputs": [
    {
     "data": {
      "text/plain": [
       "array([0.86670762, 0.86087224, 0.86087224, 0.87653563, 0.87346437,\n",
       "       0.86670762, 0.8737715 , 0.86762899, 0.88083538, 0.8762285 ])"
      ]
     },
     "execution_count": 44,
     "metadata": {},
     "output_type": "execute_result"
    }
   ],
   "source": [
    "model = XGBClassifier()\n",
    "model.fit(X_train, y_train)\n",
    "kfold = KFold(n_splits=10, shuffle=True)\n",
    "kf_cv_scores = cross_val_score(model, X_train, y_train, cv=kfold )\n",
    "kf_cv_scores"
   ]
  },
  {
   "cell_type": "code",
   "execution_count": 45,
   "id": "842e80c9",
   "metadata": {},
   "outputs": [
    {
     "name": "stdout",
     "output_type": "stream",
     "text": [
      "K-fold CV average score: 0.87\n"
     ]
    }
   ],
   "source": [
    "print(\"K-fold CV average score: %.2f\" % kf_cv_scores.mean())"
   ]
  },
  {
   "cell_type": "code",
   "execution_count": 46,
   "id": "6fb17d7e",
   "metadata": {},
   "outputs": [
    {
     "name": "stdout",
     "output_type": "stream",
     "text": [
      "[[10782   703]\n",
      " [ 1229  2273]]\n"
     ]
    }
   ],
   "source": [
    "ypred = model.predict(X_test)\n",
    "cm = confusion_matrix(y_test,ypred)\n",
    "print(cm)"
   ]
  },
  {
   "cell_type": "code",
   "execution_count": 47,
   "id": "3a2d1a4c",
   "metadata": {},
   "outputs": [],
   "source": [
    "# hyperparameter tuning\n",
    "# xgboost with gridsearchcv\n",
    "## https://www.mikulskibartosz.name/xgboost-hyperparameter-tuning-in-python-using-grid-search/\n",
    "# estimator = XGBClassifier(\n",
    "#     objective= 'binary:logistic',\n",
    "#     nthread=4,\n",
    "#     seed=42\n",
    "# )\n",
    "# parameters = {\n",
    "#     'max_depth': range (2, 10, 1),\n",
    "#     'n_estimators': range(60, 220, 40),\n",
    "#     'learning_rate': [0.1, 0.01, 0.05]\n",
    "# }\n",
    "# grid_search = GridSearchCV(\n",
    "#     estimator=estimator,\n",
    "#     param_grid=parameters,\n",
    "#     scoring = 'roc_auc',\n",
    "#     n_jobs = 10,\n",
    "#     verbose=True\n",
    "# )\n",
    "# grid_search.fit(X_train, y_train)"
   ]
  },
  {
   "cell_type": "code",
   "execution_count": 49,
   "id": "7939b017",
   "metadata": {},
   "outputs": [],
   "source": [
    "#grid_search.best_estimator_"
   ]
  },
  {
   "cell_type": "code",
   "execution_count": 50,
   "id": "d21cc1c5",
   "metadata": {},
   "outputs": [
    {
     "name": "stdout",
     "output_type": "stream",
     "text": [
      "K-fold CV average score: 0.86\n"
     ]
    }
   ],
   "source": [
    "model = XGBClassifier(max_depth=5, learning_rate=0.01, n_estimators=100, gamma=0, \n",
    "                        min_child_weight=1, subsample=0.8, colsample_bytree=0.8, reg_alpha=0.005)\n",
    "model.fit(X_train, y_train)\n",
    "kfold = KFold(n_splits=10, shuffle=True)\n",
    "kf_cv_scores = cross_val_score(model, X_train, y_train, cv=kfold )\n",
    "print(\"K-fold CV average score: %.2f\" % kf_cv_scores.mean())"
   ]
  },
  {
   "cell_type": "code",
   "execution_count": 51,
   "id": "e9b01055",
   "metadata": {},
   "outputs": [
    {
     "name": "stdout",
     "output_type": "stream",
     "text": [
      "[[10972   513]\n",
      " [ 1562  1940]]\n"
     ]
    }
   ],
   "source": [
    "ypred = model.predict(X_test)\n",
    "cm = confusion_matrix(y_test,ypred)\n",
    "print(cm)"
   ]
  },
  {
   "cell_type": "code",
   "execution_count": null,
   "id": "7f19e4ed",
   "metadata": {},
   "outputs": [],
   "source": []
  },
  {
   "cell_type": "code",
   "execution_count": null,
   "id": "470fff50",
   "metadata": {},
   "outputs": [],
   "source": []
  },
  {
   "cell_type": "code",
   "execution_count": null,
   "id": "3390dbf6",
   "metadata": {},
   "outputs": [],
   "source": []
  },
  {
   "cell_type": "code",
   "execution_count": null,
   "id": "c60b4cdf",
   "metadata": {},
   "outputs": [],
   "source": []
  },
  {
   "cell_type": "code",
   "execution_count": null,
   "id": "564aeedd",
   "metadata": {},
   "outputs": [],
   "source": []
  }
 ],
 "metadata": {
  "kernelspec": {
   "display_name": "Python 3",
   "language": "python",
   "name": "python3"
  },
  "language_info": {
   "codemirror_mode": {
    "name": "ipython",
    "version": 3
   },
   "file_extension": ".py",
   "mimetype": "text/x-python",
   "name": "python",
   "nbconvert_exporter": "python",
   "pygments_lexer": "ipython3",
   "version": "3.10.5"
  }
 },
 "nbformat": 4,
 "nbformat_minor": 5
}
